{
  "metadata": {
    "kernelspec": {
      "name": "python",
      "display_name": "Pyolite",
      "language": "python"
    },
    "language_info": {
      "codemirror_mode": {
        "name": "python",
        "version": 3
      },
      "file_extension": ".py",
      "mimetype": "text/x-python",
      "name": "python",
      "nbconvert_exporter": "python",
      "pygments_lexer": "ipython3",
      "version": "3.8"
    }
  },
  "nbformat_minor": 4,
  "nbformat": 4,
  "cells": [
    {
      "cell_type": "markdown",
      "source": "<center>\n    <img src=\"https://s3-api.us-geo.objectstorage.softlayer.net/cf-courses-data/CognitiveClass/Logos/organization_logo/organization_logo.png\" width=\"300\" alt=\"cognitiveclass.ai logo\"  />\n</center>\n",
      "metadata": {}
    },
    {
      "cell_type": "markdown",
      "source": "#### Add your code below following the instructions given in the course\n",
      "metadata": {}
    },
    {
      "cell_type": "markdown",
      "source": "# My Jupyter Notebook on IBM Watson Studio",
      "metadata": {}
    },
    {
      "cell_type": "markdown",
      "source": "**Full name: Nguyen Kien Quoc**",
      "metadata": {}
    },
    {
      "cell_type": "markdown",
      "source": "Desired occupation: Data Analyst/Science",
      "metadata": {}
    },
    {
      "cell_type": "markdown",
      "source": "*I am a big fan of Data because in my point of view, everything happen in life is its own data, and when we can understand the purpose of questions we are dealing, we can be able to use Data as a part to solve those questions*",
      "metadata": {}
    },
    {
      "cell_type": "markdown",
      "source": "### The code below describe a basic calculation using `plus`",
      "metadata": {}
    },
    {
      "cell_type": "code",
      "source": "a = 999992251321\nb = 54865156213\nprint(a+b)",
      "metadata": {
        "trusted": true
      },
      "execution_count": 1,
      "outputs": [
        {
          "name": "stdout",
          "text": "1054857407534\n",
          "output_type": "stream"
        }
      ]
    },
    {
      "cell_type": "markdown",
      "source": "- This is the random dog's image I took on Internet: ![](https://i.natgeofe.com/n/4f5aaece-3300-41a4-b2a8-ed2708a0a27c/domestic-dog_thumb_4x3.jpg)\n\n- [This is my Linkedln](https://www.linkedin.com/in/quoc-nguyen-1131aa19a/)\n\n- A quote\n> Remember to add a quote when there is an important message",
      "metadata": {}
    },
    {
      "cell_type": "code",
      "source": "",
      "metadata": {},
      "execution_count": null,
      "outputs": []
    }
  ]
}